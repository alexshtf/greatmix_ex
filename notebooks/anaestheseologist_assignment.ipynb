{
 "cells": [
  {
   "cell_type": "code",
   "execution_count": 1,
   "metadata": {
    "collapsed": true,
    "ExecuteTime": {
     "end_time": "2023-06-08T10:11:18.662815Z",
     "start_time": "2023-06-08T10:11:18.527928Z"
    }
   },
   "outputs": [],
   "source": [
    "import numpy as np\n",
    "import pandas as pd\n",
    "import matplotlib.pyplot as plt\n",
    "import seaborn as sns\n",
    "import cvxpy as cp"
   ]
  },
  {
   "cell_type": "code",
   "execution_count": 2,
   "outputs": [],
   "source": [
    "df = pd.read_csv('../data/surgeries.csv', index_col=0)\n",
    "df = df.iloc[:40, :]"
   ],
   "metadata": {
    "collapsed": false,
    "ExecuteTime": {
     "end_time": "2023-06-08T10:11:18.670696Z",
     "start_time": "2023-06-08T10:11:18.664405Z"
    }
   }
  },
  {
   "cell_type": "code",
   "execution_count": 3,
   "outputs": [],
   "source": [
    "df['start'] = pd.to_datetime(df['start'])\n",
    "df['end'] = pd.to_datetime(df['end'])\n",
    "df['duration'] = (df['end'] - df['start']).dt.total_seconds() / 60"
   ],
   "metadata": {
    "collapsed": false,
    "ExecuteTime": {
     "end_time": "2023-06-08T10:11:18.680489Z",
     "start_time": "2023-06-08T10:11:18.671383Z"
    }
   }
  },
  {
   "cell_type": "code",
   "execution_count": 4,
   "outputs": [],
   "source": [
    "min_time = df['start'].min()\n",
    "df = df.assign(\n",
    "    rel_start=(df['start'] - min_time).dt.total_seconds() / 60,\n",
    "    rel_end=(df['end'] - min_time).dt.total_seconds() / 60\n",
    ")"
   ],
   "metadata": {
    "collapsed": false,
    "ExecuteTime": {
     "end_time": "2023-06-08T10:11:18.688801Z",
     "start_time": "2023-06-08T10:11:18.685353Z"
    }
   }
  },
  {
   "cell_type": "code",
   "execution_count": 5,
   "outputs": [
    {
     "name": "stdout",
     "output_type": "stream",
     "text": [
      "                 start                 end  duration  rel_start  rel_end\n",
      "0  2023-04-25 07:00:00 2023-04-25 07:15:00      15.0        0.0     15.0\n",
      "1  2023-04-25 07:00:00 2023-04-25 07:30:00      30.0        0.0     30.0\n",
      "2  2023-04-25 07:00:00 2023-04-25 07:30:00      30.0        0.0     30.0\n",
      "3  2023-04-25 07:00:00 2023-04-25 07:30:00      30.0        0.0     30.0\n",
      "4  2023-04-25 07:00:00 2023-04-25 07:45:00      45.0        0.0     45.0\n",
      "5  2023-04-25 07:00:00 2023-04-25 08:00:00      60.0        0.0     60.0\n",
      "6  2023-04-25 07:00:00 2023-04-25 08:45:00     105.0        0.0    105.0\n",
      "7  2023-04-25 07:00:00 2023-04-25 09:45:00     165.0        0.0    165.0\n",
      "8  2023-04-25 07:15:00 2023-04-25 07:30:00      15.0       15.0     30.0\n",
      "9  2023-04-25 07:15:00 2023-04-25 07:30:00      15.0       15.0     30.0\n",
      "10 2023-04-25 07:15:00 2023-04-25 08:00:00      45.0       15.0     60.0\n",
      "11 2023-04-25 07:15:00 2023-04-25 09:30:00     135.0       15.0    150.0\n",
      "12 2023-04-25 07:30:00 2023-04-25 07:45:00      15.0       30.0     45.0\n",
      "13 2023-04-25 07:30:00 2023-04-25 07:45:00      15.0       30.0     45.0\n",
      "14 2023-04-25 07:30:00 2023-04-25 08:15:00      45.0       30.0     75.0\n",
      "15 2023-04-25 07:45:00 2023-04-25 08:30:00      45.0       45.0     90.0\n",
      "16 2023-04-25 07:45:00 2023-04-25 08:45:00      60.0       45.0    105.0\n",
      "17 2023-04-25 07:45:00 2023-04-25 09:00:00      75.0       45.0    120.0\n",
      "18 2023-04-25 07:45:00 2023-04-25 09:30:00     105.0       45.0    150.0\n",
      "19 2023-04-25 08:00:00 2023-04-25 08:15:00      15.0       60.0     75.0\n",
      "20 2023-04-25 08:00:00 2023-04-25 08:45:00      45.0       60.0    105.0\n",
      "21 2023-04-25 08:00:00 2023-04-25 09:00:00      60.0       60.0    120.0\n",
      "22 2023-04-25 08:00:00 2023-04-25 09:45:00     105.0       60.0    165.0\n",
      "23 2023-04-25 08:30:00 2023-04-25 10:30:00     120.0       90.0    210.0\n",
      "24 2023-04-25 08:45:00 2023-04-25 11:30:00     165.0      105.0    270.0\n",
      "25 2023-04-25 09:00:00 2023-04-25 10:45:00     105.0      120.0    225.0\n",
      "26 2023-04-25 09:15:00 2023-04-25 10:30:00      75.0      135.0    210.0\n",
      "27 2023-04-25 09:15:00 2023-04-25 10:30:00      75.0      135.0    210.0\n",
      "28 2023-04-25 09:30:00 2023-04-25 10:30:00      60.0      150.0    210.0\n",
      "29 2023-04-25 09:30:00 2023-04-25 10:45:00      75.0      150.0    225.0\n",
      "30 2023-04-25 09:45:00 2023-04-25 10:30:00      45.0      165.0    210.0\n",
      "31 2023-04-25 09:45:00 2023-04-25 12:00:00     135.0      165.0    300.0\n",
      "32 2023-04-25 10:00:00 2023-04-25 11:00:00      60.0      180.0    240.0\n",
      "33 2023-04-25 10:00:00 2023-04-25 12:45:00     165.0      180.0    345.0\n",
      "34 2023-04-25 10:15:00 2023-04-25 10:45:00      30.0      195.0    225.0\n",
      "35 2023-04-25 10:15:00 2023-04-25 12:15:00     120.0      195.0    315.0\n",
      "36 2023-04-25 10:45:00 2023-04-25 12:00:00      75.0      225.0    300.0\n",
      "37 2023-04-25 10:45:00 2023-04-25 12:30:00     105.0      225.0    330.0\n",
      "38 2023-04-25 11:00:00 2023-04-25 11:15:00      15.0      240.0    255.0\n",
      "39 2023-04-25 11:00:00 2023-04-25 12:15:00      75.0      240.0    315.0\n"
     ]
    }
   ],
   "source": [
    "print(df)"
   ],
   "metadata": {
    "collapsed": false,
    "ExecuteTime": {
     "end_time": "2023-06-08T10:11:18.749740Z",
     "start_time": "2023-06-08T10:11:18.691188Z"
    }
   }
  },
  {
   "cell_type": "markdown",
   "source": [
    "# Use CVXPY integer programming to solve this assignment problem"
   ],
   "metadata": {
    "collapsed": false
   }
  },
  {
   "cell_type": "code",
   "execution_count": 6,
   "outputs": [],
   "source": [
    "num_of_intervals = len(df)\n",
    "num_of_rooms = 20\n",
    "num_of_doctors = num_of_intervals # at the worst case - each surgery needs a different doctor"
   ],
   "metadata": {
    "collapsed": false,
    "ExecuteTime": {
     "end_time": "2023-06-08T10:11:18.753336Z",
     "start_time": "2023-06-08T10:11:18.750989Z"
    }
   }
  },
  {
   "cell_type": "code",
   "execution_count": 7,
   "outputs": [],
   "source": [
    "rooms = np.arange(1, num_of_rooms + 1)\n",
    "doctors = np.arange(1, num_of_doctors + 1)"
   ],
   "metadata": {
    "collapsed": false,
    "ExecuteTime": {
     "end_time": "2023-06-08T10:11:18.759474Z",
     "start_time": "2023-06-08T10:11:18.754736Z"
    }
   }
  },
  {
   "cell_type": "code",
   "execution_count": 8,
   "outputs": [],
   "source": [
    "overlaps = list()\n",
    "for i in range(num_of_intervals):\n",
    "    for j in range(i + 1, num_of_intervals):\n",
    "        if df.iloc[j]['rel_start'] < df.iloc[i]['rel_end']:\n",
    "            overlaps.append((i, j))"
   ],
   "metadata": {
    "collapsed": false,
    "ExecuteTime": {
     "end_time": "2023-06-08T10:11:18.922100Z",
     "start_time": "2023-06-08T10:11:18.810869Z"
    }
   }
  },
  {
   "cell_type": "code",
   "execution_count": 9,
   "outputs": [],
   "source": [
    "shift_overlaps = list()\n",
    "for i in range(num_of_intervals):\n",
    "    for j in range(i + 1, num_of_intervals):\n",
    "        if df.iloc[j]['rel_start'] < df.iloc[i]['rel_end'] + 15:\n",
    "            shift_overlaps.append((i, j))"
   ],
   "metadata": {
    "collapsed": false,
    "ExecuteTime": {
     "end_time": "2023-06-08T10:11:19.076417Z",
     "start_time": "2023-06-08T10:11:18.940801Z"
    }
   }
  },
  {
   "cell_type": "code",
   "execution_count": 10,
   "outputs": [],
   "source": [
    "M = 1 + max(num_of_doctors, num_of_rooms)\n",
    "m = -M"
   ],
   "metadata": {
    "collapsed": false,
    "ExecuteTime": {
     "end_time": "2023-06-08T10:11:19.079375Z",
     "start_time": "2023-06-08T10:11:19.077311Z"
    }
   }
  },
  {
   "cell_type": "code",
   "execution_count": 11,
   "outputs": [],
   "source": [
    "# doctor-surgery assignment\n",
    "D = cp.Variable((num_of_doctors, num_of_intervals), boolean=True)\n",
    "\n",
    "# room-surgery assignment\n",
    "R = cp.Variable((num_of_rooms, num_of_intervals), boolean=True)\n",
    "\n",
    "# integer variables for the constraints meaning that for two 15-min overlapping surgeries,\n",
    "#    different rooms --> different doctors\n",
    "# since according to the requirements it cannot be the same doctor. Equivalently, we can write\n",
    "#    same doctor --> same room\n",
    "#\n",
    "# In the language of our decision variables, the implication reads:\n",
    "#   doc_per_surgery[j1] - doc_per_surgery[j2] = 0 ==> room_per_surgery[j1] - room_per_surgery[j2] = 0\n",
    "# We will model a pair of integer variables, one for the LHS equality, and one for the RHS equality,\n",
    "# and require that for shift-overlapping surgeries same_room[idx, 0] >= same_doc[idx, 0] (same doctor implies same room)\n",
    "# same_room[:, 1:2] and same_doc[:, 1:2] are helper variables required to model same_room[:, 0] and same_doc[:, 0]\n",
    "same_room = cp.Variable((len(shift_overlaps), 3), boolean=True)\n",
    "same_doc = cp.Variable((len(shift_overlaps), 3), boolean=True)\n",
    "\n",
    "constraints = []\n",
    "constraints.append(cp.sum(D, axis=0) == 1) # each surgery has exactly one doctor\n",
    "constraints.append(cp.sum(R, axis=0) == 1) # each surgery has exactly one room\n",
    "for j1, j2 in overlaps:\n",
    "    constraints.append(D[:, j1] + D[:, j2] <= 1) # no doctor can be in two surgeries at the same time\n",
    "    constraints.append(R[:, j1] + R[:, j2] <= 1) # no room can host two surgeries at the same time\n",
    "\n",
    "\n",
    "doc_per_surgery = doctors @ D\n",
    "room_per_surgery = rooms @ R\n",
    "for idx, (j1, j2) in enumerate(shift_overlaps):\n",
    "    def make_indicator_of_zero(value, ind, ind_plus, ind_minus):\n",
    "        # credit - this answer: https://or.stackexchange.com/questions/9163/how-to-model-logic-constraint-y-1-if-a-le-x-le-b-and-y-0-otherwise?noredirect=1&lq=1\n",
    "        constraints.append(value <= -0.5 * ind_minus + 0.5 * ind + M * ind_plus)\n",
    "        constraints.append(-M * ind_minus + -0.5 * ind + 0.5 * ind_plus <= value)\n",
    "        constraints.append(ind_minus + ind + ind_plus == 1)\n",
    "\n",
    "    room_diff = room_per_surgery[j1] - room_per_surgery[j2]\n",
    "    make_indicator_of_zero(room_diff, same_room[idx, 0], same_room[idx, 1], same_room[idx, 2])\n",
    "\n",
    "    doc_diff = doc_per_surgery[j1] - doc_per_surgery[j2]\n",
    "    make_indicator_of_zero(doc_diff, same_doc[idx, 0], same_doc[idx, 1], same_doc[idx, 2])\n",
    "\n",
    "    constraints.append(same_room[idx, 0] >= same_doc[idx, 0])\n",
    "\n",
    "objective = cp.Minimize(cp.max(doc_per_surgery))\n",
    "problem = cp.Problem(objective, constraints)"
   ],
   "metadata": {
    "collapsed": false,
    "ExecuteTime": {
     "end_time": "2023-06-08T10:11:19.732542Z",
     "start_time": "2023-06-08T10:11:19.081069Z"
    }
   }
  },
  {
   "cell_type": "code",
   "execution_count": 12,
   "outputs": [
    {
     "data": {
      "text/plain": "13.0"
     },
     "execution_count": 12,
     "metadata": {},
     "output_type": "execute_result"
    }
   ],
   "source": [
    "problem.solve()"
   ],
   "metadata": {
    "collapsed": false,
    "ExecuteTime": {
     "end_time": "2023-06-08T10:15:08.565431Z",
     "start_time": "2023-06-08T10:11:19.776653Z"
    }
   }
  },
  {
   "cell_type": "code",
   "execution_count": 13,
   "outputs": [
    {
     "data": {
      "text/plain": "'optimal'"
     },
     "execution_count": 13,
     "metadata": {},
     "output_type": "execute_result"
    }
   ],
   "source": [
    "problem.solution.status"
   ],
   "metadata": {
    "collapsed": false,
    "ExecuteTime": {
     "end_time": "2023-06-08T10:15:08.572122Z",
     "start_time": "2023-06-08T10:15:08.564053Z"
    }
   }
  },
  {
   "cell_type": "code",
   "execution_count": 14,
   "outputs": [
    {
     "name": "stdout",
     "output_type": "stream",
     "text": [
      "Optimal value: 13.0\n"
     ]
    }
   ],
   "source": [
    "print(f'Optimal value: {problem.value}')"
   ],
   "metadata": {
    "collapsed": false,
    "ExecuteTime": {
     "end_time": "2023-06-08T10:15:08.581688Z",
     "start_time": "2023-06-08T10:15:08.575397Z"
    }
   }
  },
  {
   "cell_type": "code",
   "execution_count": 15,
   "outputs": [
    {
     "data": {
      "text/plain": "<Axes: >"
     },
     "execution_count": 15,
     "metadata": {},
     "output_type": "execute_result"
    },
    {
     "data": {
      "text/plain": "<Figure size 640x480 with 2 Axes>",
      "image/png": "[encoded data removed]"
     },
     "metadata": {},
     "output_type": "display_data"
    }
   ],
   "source": [
    "sns.heatmap(D.value)"
   ],
   "metadata": {
    "collapsed": false,
    "ExecuteTime": {
     "end_time": "2023-06-08T10:15:09.103208Z",
     "start_time": "2023-06-08T10:15:08.579260Z"
    }
   }
  },
  {
   "cell_type": "code",
   "execution_count": 16,
   "outputs": [
    {
     "data": {
      "text/plain": "<Axes: >"
     },
     "execution_count": 16,
     "metadata": {},
     "output_type": "execute_result"
    },
    {
     "data": {
      "text/plain": "<Figure size 640x480 with 2 Axes>",
      "image/png": "[encoded data removed]"
     },
     "metadata": {},
     "output_type": "display_data"
    }
   ],
   "source": [
    "sns.heatmap(R.value)"
   ],
   "metadata": {
    "collapsed": false,
    "ExecuteTime": {
     "end_time": "2023-06-08T10:15:09.606254Z",
     "start_time": "2023-06-08T10:15:09.109895Z"
    }
   }
  },
  {
   "cell_type": "code",
   "execution_count": 17,
   "outputs": [],
   "source": [
    "opt_room_per_surgery = rooms @ R.value\n",
    "opt_doc_per_surgery = doctors @ D.value"
   ],
   "metadata": {
    "collapsed": false,
    "ExecuteTime": {
     "end_time": "2023-06-08T10:15:09.610238Z",
     "start_time": "2023-06-08T10:15:09.606449Z"
    }
   }
  },
  {
   "cell_type": "code",
   "execution_count": 18,
   "outputs": [
    {
     "name": "stdout",
     "output_type": "stream",
     "text": [
      "[ 2. 13. 14. 15.  1.  4. 16.  6.  2. 12.  3. 10. 12. 15. 14. 15.  1. 11.\n",
      " 12. 17.  3.  4.  5.  9. 14.  7.  2.  3. 10.  8. 12.  5.  1.  4. 11. 13.\n",
      " 11.  6.  2.  3.]\n"
     ]
    }
   ],
   "source": [
    "print(opt_room_per_surgery)"
   ],
   "metadata": {
    "collapsed": false,
    "ExecuteTime": {
     "end_time": "2023-06-08T10:15:09.616273Z",
     "start_time": "2023-06-08T10:15:09.611870Z"
    }
   }
  },
  {
   "cell_type": "code",
   "execution_count": 19,
   "outputs": [
    {
     "name": "stdout",
     "output_type": "stream",
     "text": [
      "[12.  7. 11.  4.  5. 13.  9.  8. 12.  1.  2.  6.  1.  4. 11.  4.  5.  3.\n",
      "  1. 12.  2. 13. 10.  7. 11.  5.  9.  3. 12. 13.  4. 10.  8.  6.  2.  1.\n",
      "  2.  4. 12. 13.]\n"
     ]
    }
   ],
   "source": [
    "print(opt_doc_per_surgery)"
   ],
   "metadata": {
    "collapsed": false,
    "ExecuteTime": {
     "end_time": "2023-06-08T10:15:09.622242Z",
     "start_time": "2023-06-08T10:15:09.616152Z"
    }
   }
  },
  {
   "cell_type": "code",
   "execution_count": 20,
   "outputs": [
    {
     "name": "stdout",
     "output_type": "stream",
     "text": [
      "same_room[idx] = 1.0 ==> Room 2.0 and room 2.0 are used for 15-min overlapping surgeries 0 and 8\n",
      "Room 2.0 and room 2.0 are used for 15-min overlapping surgeries 0 and 8 ==> same_room[idx] = 1.0\n",
      "same_room[idx] = 1.0 ==> Room 14.0 and room 14.0 are used for 15-min overlapping surgeries 2 and 14\n",
      "Room 14.0 and room 14.0 are used for 15-min overlapping surgeries 2 and 14 ==> same_room[idx] = 1.0\n",
      "same_room[idx] = 1.0 ==> Room 15.0 and room 15.0 are used for 15-min overlapping surgeries 3 and 13\n",
      "Room 15.0 and room 15.0 are used for 15-min overlapping surgeries 3 and 13 ==> same_room[idx] = 1.0\n",
      "same_room[idx] = 1.0 ==> Room 1.0 and room 1.0 are used for 15-min overlapping surgeries 4 and 16\n",
      "Room 1.0 and room 1.0 are used for 15-min overlapping surgeries 4 and 16 ==> same_room[idx] = 1.0\n",
      "same_room[idx] = 1.0 ==> Room 4.0 and room 4.0 are used for 15-min overlapping surgeries 5 and 21\n",
      "Room 4.0 and room 4.0 are used for 15-min overlapping surgeries 5 and 21 ==> same_room[idx] = 1.0\n",
      "same_room[idx] = 1.0 ==> Room 12.0 and room 12.0 are used for 15-min overlapping surgeries 9 and 12\n",
      "Room 12.0 and room 12.0 are used for 15-min overlapping surgeries 9 and 12 ==> same_room[idx] = 1.0\n",
      "same_room[idx] = 1.0 ==> Room 3.0 and room 3.0 are used for 15-min overlapping surgeries 10 and 20\n",
      "Room 3.0 and room 3.0 are used for 15-min overlapping surgeries 10 and 20 ==> same_room[idx] = 1.0\n",
      "same_room[idx] = 1.0 ==> Room 10.0 and room 9.99999999999993 are used for 15-min overlapping surgeries 11 and 28\n",
      "same_room[idx] = 1.0 ==> Room 12.0 and room 12.0 are used for 15-min overlapping surgeries 12 and 18\n",
      "Room 12.0 and room 12.0 are used for 15-min overlapping surgeries 12 and 18 ==> same_room[idx] = 1.0\n",
      "same_room[idx] = 1.0 ==> Room 15.0 and room 15.0 are used for 15-min overlapping surgeries 13 and 15\n",
      "Room 15.0 and room 15.0 are used for 15-min overlapping surgeries 13 and 15 ==> same_room[idx] = 1.0\n",
      "same_room[idx] = 1.0 ==> Room 5.0 and room 5.0 are used for 15-min overlapping surgeries 22 and 31\n",
      "Room 5.0 and room 5.0 are used for 15-min overlapping surgeries 22 and 31 ==> same_room[idx] = 1.0\n",
      "same_room[idx] = 1.0 ==> Room 10.999999999999993 and room 11.0 are used for 15-min overlapping surgeries 34 and 36\n"
     ]
    }
   ],
   "source": [
    "# for debugging - make sure that the same_room variable is computed correctly.\n",
    "for idx, (j1, j2) in enumerate(shift_overlaps):\n",
    "    if same_room[idx, 0].value > 0.5:\n",
    "        print(f'same_room[idx] = {same_room[idx, 0].value} ==> Room {opt_room_per_surgery[j1]} and room {opt_room_per_surgery[j2]} are used for 15-min overlapping surgeries {j1} and {j2}')\n",
    "\n",
    "    if opt_room_per_surgery[j1] == opt_room_per_surgery[j2]:\n",
    "        print(f'Room {opt_room_per_surgery[j1]} and room {opt_room_per_surgery[j2]} are used for 15-min overlapping surgeries {j1} and {j2} ==> same_room[idx] = {same_room[idx, 0].value}')"
   ],
   "metadata": {
    "collapsed": false,
    "ExecuteTime": {
     "end_time": "2023-06-08T10:15:09.681499Z",
     "start_time": "2023-06-08T10:15:09.620638Z"
    }
   }
  },
  {
   "cell_type": "code",
   "execution_count": 21,
   "outputs": [
    {
     "name": "stdout",
     "output_type": "stream",
     "text": [
      "same_doc[idx] = 1.0 ==> Doc 12.0 and doc 12.0 are in 15-min overlapping surgeries 0 and 8\n",
      "Doc 12.0 and doc 12.0 are in 15-min overlapping surgeries 0 and 8 ==> same_doc[idx] = 1.0\n",
      "same_doc[idx] = 1.0 ==> Doc 11.0 and doc 11.0 are in 15-min overlapping surgeries 2 and 14\n",
      "Doc 11.0 and doc 11.0 are in 15-min overlapping surgeries 2 and 14 ==> same_doc[idx] = 1.0\n",
      "same_doc[idx] = 1.0 ==> Doc 4.0 and doc 4.0 are in 15-min overlapping surgeries 3 and 13\n",
      "Doc 4.0 and doc 4.0 are in 15-min overlapping surgeries 3 and 13 ==> same_doc[idx] = 1.0\n",
      "same_doc[idx] = 1.0 ==> Doc 5.0 and doc 5.0 are in 15-min overlapping surgeries 4 and 16\n",
      "Doc 5.0 and doc 5.0 are in 15-min overlapping surgeries 4 and 16 ==> same_doc[idx] = 1.0\n",
      "same_doc[idx] = 1.0 ==> Doc 13.0 and doc 13.0 are in 15-min overlapping surgeries 5 and 21\n",
      "Doc 13.0 and doc 13.0 are in 15-min overlapping surgeries 5 and 21 ==> same_doc[idx] = 1.0\n",
      "same_doc[idx] = 1.0 ==> Doc 1.0 and doc 1.0 are in 15-min overlapping surgeries 9 and 12\n",
      "Doc 1.0 and doc 1.0 are in 15-min overlapping surgeries 9 and 12 ==> same_doc[idx] = 1.0\n",
      "same_doc[idx] = 1.0 ==> Doc 2.0 and doc 2.0 are in 15-min overlapping surgeries 10 and 20\n",
      "Doc 2.0 and doc 2.0 are in 15-min overlapping surgeries 10 and 20 ==> same_doc[idx] = 1.0\n",
      "same_doc[idx] = 1.0 ==> Doc 1.0 and doc 1.0 are in 15-min overlapping surgeries 12 and 18\n",
      "Doc 1.0 and doc 1.0 are in 15-min overlapping surgeries 12 and 18 ==> same_doc[idx] = 1.0\n",
      "same_doc[idx] = 1.0 ==> Doc 4.0 and doc 4.0 are in 15-min overlapping surgeries 13 and 15\n",
      "Doc 4.0 and doc 4.0 are in 15-min overlapping surgeries 13 and 15 ==> same_doc[idx] = 1.0\n",
      "same_doc[idx] = 1.0 ==> Doc 10.0 and doc 10.0 are in 15-min overlapping surgeries 22 and 31\n",
      "Doc 10.0 and doc 10.0 are in 15-min overlapping surgeries 22 and 31 ==> same_doc[idx] = 1.0\n",
      "same_doc[idx] = 1.0 ==> Doc 2.0 and doc 2.0 are in 15-min overlapping surgeries 34 and 36\n",
      "Doc 2.0 and doc 2.0 are in 15-min overlapping surgeries 34 and 36 ==> same_doc[idx] = 1.0\n"
     ]
    }
   ],
   "source": [
    "# for debugging - make sure that the same_doc variable is computed correctly.\n",
    "for idx, (j1, j2) in enumerate(shift_overlaps):\n",
    "    if same_doc[idx, 0].value > 0.5:\n",
    "        print(f'same_doc[idx] = {same_doc[idx, 0].value} ==> Doc {opt_doc_per_surgery[j1]} and doc {opt_doc_per_surgery[j2]} are in 15-min overlapping surgeries {j1} and {j2}')\n",
    "\n",
    "    if opt_doc_per_surgery[j1] == opt_doc_per_surgery[j2]:\n",
    "        print(f'Doc {opt_doc_per_surgery[j1]} and doc {opt_doc_per_surgery[j2]} are in 15-min overlapping surgeries {j1} and {j2} ==> same_doc[idx] = {same_doc[idx, 0].value}')"
   ],
   "metadata": {
    "collapsed": false,
    "ExecuteTime": {
     "end_time": "2023-06-08T10:15:09.681792Z",
     "start_time": "2023-06-08T10:15:09.647937Z"
    }
   }
  }
 ],
 "metadata": {
  "kernelspec": {
   "display_name": "Python 3",
   "language": "python",
   "name": "python3"
  },
  "language_info": {
   "codemirror_mode": {
    "name": "ipython",
    "version": 2
   },
   "file_extension": ".py",
   "mimetype": "text/x-python",
   "name": "python",
   "nbconvert_exporter": "python",
   "pygments_lexer": "ipython2",
   "version": "2.7.6"
  }
 },
 "nbformat": 4,
 "nbformat_minor": 0
}
